{
  "nbformat": 4,
  "nbformat_minor": 0,
  "metadata": {
    "colab": {
      "name": "Week 2 Assignment.ipynb",
      "provenance": [],
      "collapsed_sections": [],
      "authorship_tag": "ABX9TyMIGgt1JIGdxjcMWzAdG/Ns",
      "include_colab_link": true
    },
    "kernelspec": {
      "name": "python3",
      "display_name": "Python 3"
    }
  },
  "cells": [
    {
      "cell_type": "markdown",
      "metadata": {
        "id": "view-in-github",
        "colab_type": "text"
      },
      "source": [
        "<a href=\"https://colab.research.google.com/github/JinHuiXu1991/DATA602/blob/main/Week_2_Assignment.ipynb\" target=\"_parent\"><img src=\"https://colab.research.google.com/assets/colab-badge.svg\" alt=\"Open In Colab\"/></a>"
      ]
    },
    {
      "cell_type": "markdown",
      "metadata": {
        "id": "nT9tgt0ywPoa"
      },
      "source": [
        "1. Perform classification of the iris dataset for setosa and versicolor using petal length..\n",
        "\n",
        "Adapt the procedure in the notebook, and include 3 plots.\n",
        "\n",
        "Create a plot of the data\n",
        "\n",
        "Create a plot of squared error vs epoch\n",
        "\n",
        "Create a third plot that includes all of the following:\n",
        "\n",
        "The data\n",
        "\n",
        "Predictions for a range of inputs that include and extend slightly beyond the data\n",
        "\n",
        "The activation function\n",
        "\n",
        "The decision boundary used to predict class membership\n"
      ]
    },
    {
      "cell_type": "markdown",
      "metadata": {
        "id": "sWNjMfDPUTIU"
      },
      "source": [
        "\n",
        "\n",
        "# Lab 3 -- Adaline\n",
        "\n",
        "This notebook a subset of Raschka's ch02.ipynb.\n",
        "\n",
        "### References\n",
        "\n",
        "* [Python Machine Learning, 3rd Edition](https://github.com/rasbt/python-machine-learning-book-3rd-edition) (2019) by Rashka & Mirjalili -- github.com\n",
        "    * [ch02.ipynb](https://github.com/rasbt/python-machine-learning-book-3rd-edition/blob/master/ch02/ch02.ipynb) -- github.com"
      ]
    },
    {
      "cell_type": "code",
      "metadata": {
        "id": "3NAg-bSAUPCz"
      },
      "source": [
        "# AdalineGD (uses gradient descent)\n",
        "import numpy as np\n",
        "\n",
        "class AdalineGD(object):\n",
        "    \"\"\"ADAptive LInear NEuron classifier.\n",
        "\n",
        "    Parameters\n",
        "    ------------\n",
        "    eta : float\n",
        "      Learning rate (between 0.0 and 1.0)\n",
        "    n_iter : int\n",
        "      Passes over the training dataset.\n",
        "    random_state : int\n",
        "      Random number generator seed for random weight\n",
        "      initialization.\n",
        "\n",
        "\n",
        "    Attributes\n",
        "    -----------\n",
        "    w_ : 1d-array\n",
        "      Weights after fitting.\n",
        "    cost_ : list\n",
        "      Sum-of-squares cost function value in each epoch.\n",
        "\n",
        "    \"\"\"\n",
        "    def __init__(self, eta=0.01, n_iter=50, random_state=1):\n",
        "        self.eta = eta\n",
        "        self.n_iter = n_iter\n",
        "        self.random_state = random_state\n",
        "\n",
        "    def fit(self, X, y):\n",
        "        \"\"\" Fit training data.\n",
        "\n",
        "        Parameters\n",
        "        ----------\n",
        "        X : {array-like}, shape = [n_examples, n_features]\n",
        "          Training vectors, where n_examples is the number of examples and\n",
        "          n_features is the number of features.\n",
        "        y : array-like, shape = [n_examples]\n",
        "          Target values.\n",
        "\n",
        "        Returns\n",
        "        -------\n",
        "        self : object\n",
        "\n",
        "        \"\"\"\n",
        "        rgen = np.random.RandomState(self.random_state)\n",
        "        self.w_ = rgen.normal(loc=0.0, scale=0.01, size=1 + X.shape[1])\n",
        "        self.cost_ = []\n",
        "\n",
        "        for i in range(self.n_iter):\n",
        "            net_input = self.net_input(X)\n",
        "            # Please note that the \"activation\" method has no effect\n",
        "            # in the code since it is simply an identity function. We\n",
        "            # could write `output = self.net_input(X)` directly instead.\n",
        "            # The purpose of the activation is more conceptual, i.e.,  \n",
        "            # in the case of logistic regression (as we will see later), \n",
        "            # we could change it to\n",
        "            # a sigmoid function to implement a logistic regression classifier.\n",
        "            output = self.activation(net_input)\n",
        "            errors = (y - output)\n",
        "            self.w_[1:] += self.eta * X.T.dot(errors)\n",
        "            self.w_[0] += self.eta * errors.sum()\n",
        "            cost = (errors**2).sum() / 2.0\n",
        "            self.cost_.append(cost)\n",
        "        return self\n",
        "\n",
        "    def net_input(self, X):\n",
        "        \"\"\"Calculate net input\"\"\"\n",
        "        return np.dot(X, self.w_[1:]) + self.w_[0]\n",
        "\n",
        "    def activation(self, X):\n",
        "        \"\"\"Compute linear activation\"\"\"\n",
        "        return X\n",
        "\n",
        "    def predict(self, X):\n",
        "        \"\"\"Return class label after unit step\"\"\"\n",
        "        return np.where(self.activation(self.net_input(X)) >= 0.0, 1, -1)"
      ],
      "execution_count": null,
      "outputs": []
    },
    {
      "cell_type": "markdown",
      "metadata": {
        "id": "uTSQ4BQWaeg4"
      },
      "source": [
        "# Cost function\n",
        "Sum of squared errors (SSE):\n",
        "$$\n",
        "J(w) = \\frac{1}{2} \\sum_i \\left( y^{(i)} - \\phi(z^{(i)}) \\right)^2\n",
        "$$\n",
        "where\n",
        "$$\n",
        "z = w_0 + \\sum_{i=1}^p w_i x_i = \\mathbf{w}^T \\mathbf{x}\n",
        "$$\n",
        "For Adaline, $\\phi (z) = z$, so $J(w)$ is a quadratic function of $w$ (upward facing parabola) in one dimension.\n",
        "\n",
        "<img src=\"https://github.com/rasbt/python-machine-learning-book-3rd-edition/raw/master/ch02/images/02_12.png\" width=\"600\"/>\n"
      ]
    },
    {
      "cell_type": "markdown",
      "metadata": {
        "id": "gHoXmenueyyF"
      },
      "source": [
        "In two dimensions, the cost function is an upward facing bowl with a global minimum. For any combination of $w$, the direction of maximum increase in $J(w)$ occurs in the direction of the gradient $\\nabla J$.\n",
        "$$\n",
        "J(w+\\Delta w) = J(w) + \\nabla J \\cdot dw\n",
        "$$\n",
        "The components of $\\nabla J$ are $\\frac{J}{dw_j}$, and $dw$ is parallel to $\\nabla J$.\n",
        "\n",
        "\n",
        "Likewise, the most rapid decrease in $J$ occurs in the direction of $ - \\nabla J$. So if we want to find the $w$ that minimizes $J$, then we make updates to $w$ in the direction of $-\\nabla J$, that is, down the gradient, hence the term gradient descent.\n",
        "\n",
        "$$\n",
        "\\frac{dJ}{dw_j} = \\frac{dJ}{dz} \\frac{dz}{dw_j} = \n",
        "- \\sum_i \\left( y^{(i)} - \\phi(z^{(i)}) \\right) x_j^{(i)}\n",
        "$$\n",
        "\n",
        "Remember, we can compute $J(w)$ and $\\nabla J$ as a function of $w$. But we don't know the $w$ or $J$ for which $J$ at the minimum. \n",
        "\n",
        "We do know is that $\\nabla J$ is zero at the minimum. Therefore, we may need to increase the learning rate $\\eta$ as we get closer to the minimum.\n",
        "\n"
      ]
    },
    {
      "cell_type": "code",
      "metadata": {
        "id": "9o7N5jVPUrzV",
        "colab": {
          "base_uri": "https://localhost:8080/",
          "height": 221
        },
        "outputId": "542488fb-1e37-44df-ee74-d785619267e5"
      },
      "source": [
        "# Load the Iris data directly from the UC Irvine archive\n",
        "import os\n",
        "import pandas as pd\n",
        "\n",
        "s = 'https://archive.ics.uci.edu/ml/machine-learning-databases/iris/iris.data'\n",
        "print('URL:', s)\n",
        "\n",
        "df = pd.read_csv(s, header=None, encoding='utf-8')\n",
        "\n",
        "df.tail()"
      ],
      "execution_count": null,
      "outputs": [
        {
          "output_type": "stream",
          "text": [
            "URL: https://archive.ics.uci.edu/ml/machine-learning-databases/iris/iris.data\n"
          ],
          "name": "stdout"
        },
        {
          "output_type": "execute_result",
          "data": {
            "text/html": [
              "<div>\n",
              "<style scoped>\n",
              "    .dataframe tbody tr th:only-of-type {\n",
              "        vertical-align: middle;\n",
              "    }\n",
              "\n",
              "    .dataframe tbody tr th {\n",
              "        vertical-align: top;\n",
              "    }\n",
              "\n",
              "    .dataframe thead th {\n",
              "        text-align: right;\n",
              "    }\n",
              "</style>\n",
              "<table border=\"1\" class=\"dataframe\">\n",
              "  <thead>\n",
              "    <tr style=\"text-align: right;\">\n",
              "      <th></th>\n",
              "      <th>0</th>\n",
              "      <th>1</th>\n",
              "      <th>2</th>\n",
              "      <th>3</th>\n",
              "      <th>4</th>\n",
              "    </tr>\n",
              "  </thead>\n",
              "  <tbody>\n",
              "    <tr>\n",
              "      <th>145</th>\n",
              "      <td>6.7</td>\n",
              "      <td>3.0</td>\n",
              "      <td>5.2</td>\n",
              "      <td>2.3</td>\n",
              "      <td>Iris-virginica</td>\n",
              "    </tr>\n",
              "    <tr>\n",
              "      <th>146</th>\n",
              "      <td>6.3</td>\n",
              "      <td>2.5</td>\n",
              "      <td>5.0</td>\n",
              "      <td>1.9</td>\n",
              "      <td>Iris-virginica</td>\n",
              "    </tr>\n",
              "    <tr>\n",
              "      <th>147</th>\n",
              "      <td>6.5</td>\n",
              "      <td>3.0</td>\n",
              "      <td>5.2</td>\n",
              "      <td>2.0</td>\n",
              "      <td>Iris-virginica</td>\n",
              "    </tr>\n",
              "    <tr>\n",
              "      <th>148</th>\n",
              "      <td>6.2</td>\n",
              "      <td>3.4</td>\n",
              "      <td>5.4</td>\n",
              "      <td>2.3</td>\n",
              "      <td>Iris-virginica</td>\n",
              "    </tr>\n",
              "    <tr>\n",
              "      <th>149</th>\n",
              "      <td>5.9</td>\n",
              "      <td>3.0</td>\n",
              "      <td>5.1</td>\n",
              "      <td>1.8</td>\n",
              "      <td>Iris-virginica</td>\n",
              "    </tr>\n",
              "  </tbody>\n",
              "</table>\n",
              "</div>"
            ],
            "text/plain": [
              "       0    1    2    3               4\n",
              "145  6.7  3.0  5.2  2.3  Iris-virginica\n",
              "146  6.3  2.5  5.0  1.9  Iris-virginica\n",
              "147  6.5  3.0  5.2  2.0  Iris-virginica\n",
              "148  6.2  3.4  5.4  2.3  Iris-virginica\n",
              "149  5.9  3.0  5.1  1.8  Iris-virginica"
            ]
          },
          "metadata": {
            "tags": []
          },
          "execution_count": 268
        }
      ]
    },
    {
      "cell_type": "code",
      "metadata": {
        "id": "akBPDndrTbhD",
        "colab": {
          "base_uri": "https://localhost:8080/",
          "height": 1000
        },
        "outputId": "8943da3c-516a-4f11-e657-e20d115caa1a"
      },
      "source": [
        "# select setosa and versicolor\n",
        "y = df.iloc[0:100, 4].values\n",
        "y = np.where(y == 'Iris-setosa', -1, 1)\n",
        "\n",
        "# extract petal length\n",
        "X = df.iloc[0:100, [2]].values\n",
        "X\n"
      ],
      "execution_count": null,
      "outputs": [
        {
          "output_type": "execute_result",
          "data": {
            "text/plain": [
              "array([[1.4],\n",
              "       [1.4],\n",
              "       [1.3],\n",
              "       [1.5],\n",
              "       [1.4],\n",
              "       [1.7],\n",
              "       [1.4],\n",
              "       [1.5],\n",
              "       [1.4],\n",
              "       [1.5],\n",
              "       [1.5],\n",
              "       [1.6],\n",
              "       [1.4],\n",
              "       [1.1],\n",
              "       [1.2],\n",
              "       [1.5],\n",
              "       [1.3],\n",
              "       [1.4],\n",
              "       [1.7],\n",
              "       [1.5],\n",
              "       [1.7],\n",
              "       [1.5],\n",
              "       [1. ],\n",
              "       [1.7],\n",
              "       [1.9],\n",
              "       [1.6],\n",
              "       [1.6],\n",
              "       [1.5],\n",
              "       [1.4],\n",
              "       [1.6],\n",
              "       [1.6],\n",
              "       [1.5],\n",
              "       [1.5],\n",
              "       [1.4],\n",
              "       [1.5],\n",
              "       [1.2],\n",
              "       [1.3],\n",
              "       [1.5],\n",
              "       [1.3],\n",
              "       [1.5],\n",
              "       [1.3],\n",
              "       [1.3],\n",
              "       [1.3],\n",
              "       [1.6],\n",
              "       [1.9],\n",
              "       [1.4],\n",
              "       [1.6],\n",
              "       [1.4],\n",
              "       [1.5],\n",
              "       [1.4],\n",
              "       [4.7],\n",
              "       [4.5],\n",
              "       [4.9],\n",
              "       [4. ],\n",
              "       [4.6],\n",
              "       [4.5],\n",
              "       [4.7],\n",
              "       [3.3],\n",
              "       [4.6],\n",
              "       [3.9],\n",
              "       [3.5],\n",
              "       [4.2],\n",
              "       [4. ],\n",
              "       [4.7],\n",
              "       [3.6],\n",
              "       [4.4],\n",
              "       [4.5],\n",
              "       [4.1],\n",
              "       [4.5],\n",
              "       [3.9],\n",
              "       [4.8],\n",
              "       [4. ],\n",
              "       [4.9],\n",
              "       [4.7],\n",
              "       [4.3],\n",
              "       [4.4],\n",
              "       [4.8],\n",
              "       [5. ],\n",
              "       [4.5],\n",
              "       [3.5],\n",
              "       [3.8],\n",
              "       [3.7],\n",
              "       [3.9],\n",
              "       [5.1],\n",
              "       [4.5],\n",
              "       [4.5],\n",
              "       [4.7],\n",
              "       [4.4],\n",
              "       [4.1],\n",
              "       [4. ],\n",
              "       [4.4],\n",
              "       [4.6],\n",
              "       [4. ],\n",
              "       [3.3],\n",
              "       [4.2],\n",
              "       [4.2],\n",
              "       [4.2],\n",
              "       [4.3],\n",
              "       [3. ],\n",
              "       [4.1]])"
            ]
          },
          "metadata": {
            "tags": []
          },
          "execution_count": 269
        }
      ]
    },
    {
      "cell_type": "code",
      "metadata": {
        "id": "d70fpoLie-kt",
        "colab": {
          "base_uri": "https://localhost:8080/",
          "height": 279
        },
        "outputId": "f422ea1b-869d-4ad1-e075-5ad043ac7b7c"
      },
      "source": [
        "import matplotlib.pyplot as plt\n",
        "import numpy as np\n",
        "\n",
        "# plot data\n",
        "plt.scatter(X[:50, 0], [0 for i in X[:50]],\n",
        "            color='red', marker='o', label='setosa')\n",
        "plt.scatter(X[50:100, 0], [0 for i in X[50:100]],\n",
        "            color='blue', marker='x', label='versicolor')\n",
        "\n",
        "plt.xlabel('petal length [cm]')\n",
        "plt.legend(loc='upper left');"
      ],
      "execution_count": null,
      "outputs": [
        {
          "output_type": "display_data",
          "data": {
            "image/png": "[encoded data removed]",
            "text/plain": [
              "<Figure size 432x288 with 1 Axes>"
            ]
          },
          "metadata": {
            "tags": [],
            "needs_background": "light"
          }
        }
      ]
    },
    {
      "cell_type": "code",
      "metadata": {
        "id": "ngUBX36mWtkb",
        "colab": {
          "base_uri": "https://localhost:8080/",
          "height": 295
        },
        "outputId": "c2973f96-5ea3-46b2-b56b-7462968e97bd"
      },
      "source": [
        "# Train the model\n",
        "eta1 = .0001\n",
        "ada1 = AdalineGD(n_iter=100, eta=eta1).fit(X, y)\n",
        "\n",
        "# Plot the learning curves\n",
        "fig, ax = plt.subplots(nrows=1, ncols=2, figsize=(10, 4))\n",
        "\n",
        "ax[0].plot(range(1, len(ada1.cost_) + 1), ada1.cost_, marker='o')\n",
        "ax[0].set_xlabel('Epochs')\n",
        "ax[0].set_ylabel('Sum-squared-error')\n",
        "ax[0].set_title('Adaline - Learning rate {:.5f}'.format(eta1))\n",
        "\n",
        "eta2 = .0001\n",
        "ada2 = AdalineGD(n_iter=1000, eta=eta2).fit(X, y)\n",
        "ax[1].plot(range(1, len(ada2.cost_) + 1), ada2.cost_, marker='o')\n",
        "ax[1].set_xlabel('Epochs')\n",
        "ax[1].set_ylabel('Sum-squared-error')\n",
        "ax[1].set_title('Adaline - Learning rate {:.5f}'.format(eta2))\n",
        "plt.show()\n",
        "\n"
      ],
      "execution_count": null,
      "outputs": [
        {
          "output_type": "display_data",
          "data": {
            "image/png": "[encoded data removed]",
            "text/plain": [
              "<Figure size 720x288 with 2 Axes>"
            ]
          },
          "metadata": {
            "tags": [],
            "needs_background": "light"
          }
        }
      ]
    },
    {
      "cell_type": "markdown",
      "metadata": {
        "id": "eZFn-0WY7Uwf"
      },
      "source": [
        "With a convex cost function, increasing $J$ is a sign that the learning rate is too large (right-hand figure below), so you should choose smaller $\\eta$.\n",
        "\n",
        "Conversely, linearly decreasing learning rate is a sign that you may be able to increase the learning rate, or that you're still fairly far away from the minimum $J$.\n",
        "\n",
        "<img src=\"https://github.com/rasbt/python-machine-learning-book-3rd-edition/raw/master/ch02/images/02_12.png\" width=\"600\"/>\n"
      ]
    },
    {
      "cell_type": "code",
      "metadata": {
        "id": "l36RH_SuWvfd"
      },
      "source": [
        "# Convenience function for plotting the decision region\n",
        "from matplotlib.colors import ListedColormap\n",
        "\n",
        "def plot_decision_regions1(X, y, classifier, resolution=0.02):\n",
        "\n",
        "    # setup marker generator and color map\n",
        "    markers = ('s', 'x', 'o', '^', 'v')\n",
        "    colors = ('red', 'blue', 'lightgreen', 'gray', 'cyan')\n",
        "    cmap = ListedColormap(colors[:len(np.unique(y))])\n",
        "\n",
        "    # plot the decision surface\n",
        "\n",
        "    x1_min, x1_max = X[:, 0].min() - 1, X[:, 0].max() + 1\n",
        "    x2_min, x2_max = -1, 1\n",
        "    xx1, xx2 = np.meshgrid(np.arange(x1_min, x1_max, resolution),\n",
        "                           np.arange(x2_min, x2_max, resolution))\n",
        "    Z = classifier.predict(np.array([xx1.ravel()]).T)\n",
        "    Z = Z.reshape(xx1.shape)\n",
        "    plt.contourf(xx1, xx2, Z, alpha=0.3, cmap=cmap)\n",
        "    plt.xlim(xx1.min(), xx1.max())\n",
        "    plt.ylim(xx2.min(), xx2.max())\n",
        "\n",
        "    # plot class examples\n",
        "    for idx, cl in enumerate(np.unique(y)):\n",
        "        plt.scatter(x=X[y == cl, 0], \n",
        "                    y=[0 for i in X[y == cl]],\n",
        "                    alpha=0.8, \n",
        "                    c=colors[idx],\n",
        "                    marker=markers[idx], \n",
        "                    label=cl, \n",
        "                    edgecolor='black')\n",
        "        \n",
        "    # plot activation function\n",
        "    x_pred = np.array([[0],[6]])\n",
        "    classifier_y = x_pred * classifier.w_[1:] + classifier.w_[0]\n",
        "    plt.plot(x_pred, classifier_y, label='activation function')\n",
        "\n",
        "    # plot decision boundary\n",
        "    x0 = - classifier.w_[0] / classifier.w_[1]\n",
        "    plt.plot([x0], [0], marker='o', label='decision boundary')"
      ],
      "execution_count": null,
      "outputs": []
    },
    {
      "cell_type": "code",
      "metadata": {
        "id": "28zMVGO0W1sZ",
        "colab": {
          "base_uri": "https://localhost:8080/",
          "height": 296
        },
        "outputId": "75179c44-5df7-4d54-a445-d4f881f6150a"
      },
      "source": [
        "# Plot the decision region\n",
        "print('Model 1')\n",
        "plot_decision_regions1(X, y, classifier=ada1)\n",
        "plt.xlabel('petal length [cm]')\n",
        "plt.legend(loc='upper left');\n",
        "\n"
      ],
      "execution_count": null,
      "outputs": [
        {
          "output_type": "stream",
          "text": [
            "Model 1\n"
          ],
          "name": "stdout"
        },
        {
          "output_type": "display_data",
          "data": {
            "image/png": "[encoded data removed]",
            "text/plain": [
              "<Figure size 432x288 with 1 Axes>"
            ]
          },
          "metadata": {
            "tags": [],
            "needs_background": "light"
          }
        }
      ]
    },
    {
      "cell_type": "code",
      "metadata": {
        "id": "4VCkyx4ReyJm",
        "colab": {
          "base_uri": "https://localhost:8080/",
          "height": 296
        },
        "outputId": "f0b7d790-ae56-4730-98f0-f7ab4935c76a"
      },
      "source": [
        "print('Model 2')\n",
        "plot_decision_regions1(X, y, classifier=ada2)\n",
        "plt.xlabel('petal length [cm]')\n",
        "plt.legend(loc='upper left');\n"
      ],
      "execution_count": null,
      "outputs": [
        {
          "output_type": "stream",
          "text": [
            "Model 2\n"
          ],
          "name": "stdout"
        },
        {
          "output_type": "display_data",
          "data": {
            "image/png": "[encoded data removed]",
            "text/plain": [
              "<Figure size 432x288 with 1 Axes>"
            ]
          },
          "metadata": {
            "tags": [],
            "needs_background": "light"
          }
        }
      ]
    },
    {
      "cell_type": "code",
      "metadata": {
        "id": "DlNWrXM7vWtM"
      },
      "source": [
        ""
      ],
      "execution_count": null,
      "outputs": []
    },
    {
      "cell_type": "markdown",
      "metadata": {
        "id": "7gk47gBNwqOs"
      },
      "source": [
        "2. Logistic regression in 1-D\n",
        "\n",
        "Start with lab04_logistic_regression.ipynb\n",
        "\n",
        "Repeat the analysis above for logistic regression in 1D"
      ]
    },
    {
      "cell_type": "markdown",
      "metadata": {
        "id": "dT8orxhx1iCV"
      },
      "source": [
        "\n",
        "\n",
        "# Lab 04 -- Logistic regression"
      ]
    },
    {
      "cell_type": "code",
      "metadata": {
        "id": "7yj0-cASoXsJ",
        "colab": {
          "base_uri": "https://localhost:8080/",
          "height": 1000
        },
        "outputId": "bc3b294c-739a-4bf1-b24f-17d401430856"
      },
      "source": [
        "from sklearn import datasets\n",
        "import numpy as np\n",
        "\n",
        "# select setosa and versicolor\n",
        "iris = datasets.load_iris()\n",
        "X = iris.data[0:100, [2]]\n",
        "print(X)\n",
        "\n",
        "y = iris.target\n",
        "y = y[:100]\n",
        "y = np.where(y == 0, 0, 1)\n",
        "print(y)\n",
        "\n",
        "print('Class labels:', np.unique(y))"
      ],
      "execution_count": null,
      "outputs": [
        {
          "output_type": "stream",
          "text": [
            "[[1.4]\n",
            " [1.4]\n",
            " [1.3]\n",
            " [1.5]\n",
            " [1.4]\n",
            " [1.7]\n",
            " [1.4]\n",
            " [1.5]\n",
            " [1.4]\n",
            " [1.5]\n",
            " [1.5]\n",
            " [1.6]\n",
            " [1.4]\n",
            " [1.1]\n",
            " [1.2]\n",
            " [1.5]\n",
            " [1.3]\n",
            " [1.4]\n",
            " [1.7]\n",
            " [1.5]\n",
            " [1.7]\n",
            " [1.5]\n",
            " [1. ]\n",
            " [1.7]\n",
            " [1.9]\n",
            " [1.6]\n",
            " [1.6]\n",
            " [1.5]\n",
            " [1.4]\n",
            " [1.6]\n",
            " [1.6]\n",
            " [1.5]\n",
            " [1.5]\n",
            " [1.4]\n",
            " [1.5]\n",
            " [1.2]\n",
            " [1.3]\n",
            " [1.4]\n",
            " [1.3]\n",
            " [1.5]\n",
            " [1.3]\n",
            " [1.3]\n",
            " [1.3]\n",
            " [1.6]\n",
            " [1.9]\n",
            " [1.4]\n",
            " [1.6]\n",
            " [1.4]\n",
            " [1.5]\n",
            " [1.4]\n",
            " [4.7]\n",
            " [4.5]\n",
            " [4.9]\n",
            " [4. ]\n",
            " [4.6]\n",
            " [4.5]\n",
            " [4.7]\n",
            " [3.3]\n",
            " [4.6]\n",
            " [3.9]\n",
            " [3.5]\n",
            " [4.2]\n",
            " [4. ]\n",
            " [4.7]\n",
            " [3.6]\n",
            " [4.4]\n",
            " [4.5]\n",
            " [4.1]\n",
            " [4.5]\n",
            " [3.9]\n",
            " [4.8]\n",
            " [4. ]\n",
            " [4.9]\n",
            " [4.7]\n",
            " [4.3]\n",
            " [4.4]\n",
            " [4.8]\n",
            " [5. ]\n",
            " [4.5]\n",
            " [3.5]\n",
            " [3.8]\n",
            " [3.7]\n",
            " [3.9]\n",
            " [5.1]\n",
            " [4.5]\n",
            " [4.5]\n",
            " [4.7]\n",
            " [4.4]\n",
            " [4.1]\n",
            " [4. ]\n",
            " [4.4]\n",
            " [4.6]\n",
            " [4. ]\n",
            " [3.3]\n",
            " [4.2]\n",
            " [4.2]\n",
            " [4.2]\n",
            " [4.3]\n",
            " [3. ]\n",
            " [4.1]]\n",
            "[0 0 0 0 0 0 0 0 0 0 0 0 0 0 0 0 0 0 0 0 0 0 0 0 0 0 0 0 0 0 0 0 0 0 0 0 0\n",
            " 0 0 0 0 0 0 0 0 0 0 0 0 0 1 1 1 1 1 1 1 1 1 1 1 1 1 1 1 1 1 1 1 1 1 1 1 1\n",
            " 1 1 1 1 1 1 1 1 1 1 1 1 1 1 1 1 1 1 1 1 1 1 1 1 1 1]\n",
            "Class labels: [0 1]\n"
          ],
          "name": "stdout"
        }
      ]
    },
    {
      "cell_type": "code",
      "metadata": {
        "id": "ldy20rthoqmC"
      },
      "source": [
        "from sklearn.preprocessing import StandardScaler\n",
        "\n",
        "sc = StandardScaler()\n",
        "sc.fit(X)\n",
        "X = sc.transform(X)"
      ],
      "execution_count": null,
      "outputs": []
    },
    {
      "cell_type": "code",
      "metadata": {
        "id": "OZ9LJi_wg8rq",
        "colab": {
          "base_uri": "https://localhost:8080/",
          "height": 279
        },
        "outputId": "ed26ecad-a46d-409d-e47c-4be0d1d0e86c"
      },
      "source": [
        "import matplotlib.pyplot as plt\n",
        "import numpy as np\n",
        "\n",
        "# plot data\n",
        "plt.scatter(X[:50, 0], [0 for i in X[:50]],\n",
        "            color='red', marker='o', label='setosa')\n",
        "plt.scatter(X[50:100, 0], [0 for i in X[50:100]],\n",
        "            color='blue', marker='x', label='versicolor')\n",
        "\n",
        "plt.xlabel('petal length [cm]')\n",
        "plt.legend(loc='upper left');"
      ],
      "execution_count": null,
      "outputs": [
        {
          "output_type": "display_data",
          "data": {
            "image/png": "[encoded data removed]",
            "text/plain": [
              "<Figure size 432x288 with 1 Axes>"
            ]
          },
          "metadata": {
            "tags": [],
            "needs_background": "light"
          }
        }
      ]
    },
    {
      "cell_type": "code",
      "metadata": {
        "id": "NuWQG3pjnwW5"
      },
      "source": [
        "class LogisticRegressionGD(object):\n",
        "    def __init__(self, eta=0.05, n_iter=100, random_state=1):\n",
        "        self.eta = eta\n",
        "        self.n_iter = n_iter\n",
        "        self.random_state = random_state\n",
        "\n",
        "    def fit(self, X, y):\n",
        "        rgen = np.random.RandomState(self.random_state)\n",
        "        self.w_ = rgen.normal(loc=0.0, scale=0.01, size=1 + X.shape[1])\n",
        "        self.cost_ = []\n",
        "\n",
        "        for i in range(self.n_iter):\n",
        "            net_input = self.net_input(X)\n",
        "            output = self.activation(net_input)\n",
        "            errors = (y - output)\n",
        "            self.w_[1:] += self.eta * X.T.dot(errors)\n",
        "            self.w_[0] += self.eta * errors.sum()\n",
        "\n",
        "            cost = -y.dot(np.log(output)) - ((1 - y).dot(np.log(1 - output)))\n",
        "            self.cost_.append(cost)\n",
        "        return self\n",
        "    \n",
        "    def net_input(self, X):\n",
        "        return np.dot(X, self.w_[1:]) + self.w_[0]\n",
        "\n",
        "    def activation(self, z):\n",
        "        return 1. / (1. + np.exp(-np.clip(z, -250, 250)))\n",
        "\n",
        "    def predict(self, X):\n",
        "        return np.where(self.net_input(X) >= 0.0, 1, 0)\n",
        "        # equivalent to:\n",
        "        # return np.where(self.activation(self.net_input(X)) >= 0.5, 1, 0)"
      ],
      "execution_count": null,
      "outputs": []
    },
    {
      "cell_type": "code",
      "metadata": {
        "id": "wlNkO6RXpdcc"
      },
      "source": [
        "from matplotlib.colors import ListedColormap\n",
        "import matplotlib.pyplot as plt\n",
        "\n",
        "\n",
        "def plot_decision_regions2(X, y, classifier, test_idx=None, resolution=0.02):\n",
        "\n",
        "    # setup marker generator and color map\n",
        "    markers = ('s', 'x', 'o', '^', 'v')\n",
        "    colors = ('red', 'blue', 'lightgreen', 'gray', 'cyan')\n",
        "    cmap = ListedColormap(colors[:len(np.unique(y))])\n",
        "\n",
        "    # plot the decision surface\n",
        "    x1_min, x1_max = X[:, 0].min() - 1, X[:, 0].max() + 1\n",
        "    x2_min, x2_max = 0, 1\n",
        "    xx1, xx2 = np.meshgrid(np.arange(x1_min, x1_max, resolution),\n",
        "                           np.arange(x2_min, x2_max, resolution))\n",
        "    Z = classifier.predict(np.array([xx1.ravel()]).T)\n",
        "    Z = Z.reshape(xx1.shape)\n",
        "    plt.contourf(xx1, xx2, Z, alpha=0.3, cmap=cmap)\n",
        "    plt.xlim(xx1.min(), xx1.max())\n",
        "    plt.ylim(xx2.min(), xx2.max())\n",
        "\n",
        "    for idx, cl in enumerate(np.unique(y)):\n",
        "        plt.scatter(x=X[y == cl, 0], \n",
        "                    y=[.5 for i in X[y == cl]],\n",
        "                    alpha=0.8, \n",
        "                    c=colors[idx],\n",
        "                    marker=markers[idx], \n",
        "                    label=cl, \n",
        "                    edgecolor='black')\n",
        "\n",
        "    # highlight test examples\n",
        "    if test_idx:\n",
        "        # plot all examples\n",
        "        X_test, y_test = X[test_idx, :], y[test_idx]\n",
        "\n",
        "        plt.scatter(X_test[:, 0],\n",
        "                    X_test[:, 1],\n",
        "                    c='',\n",
        "                    edgecolor='black',\n",
        "                    alpha=1.0,\n",
        "                    linewidth=1,\n",
        "                    marker='o',\n",
        "                    s=100, \n",
        "                    label='test set')\n",
        "        \n",
        "    # plot activation function\n",
        "    x_pred = np.arange(-3, 3, .1)\n",
        "    x_pred = x_pred[..., np.newaxis]\n",
        "    net_input = classifier.net_input(x_pred)\n",
        "    output = classifier.activation(net_input)\n",
        "    plt.plot(x_pred, output, label='activation function')\n",
        "\n",
        "    # plot decision boundary\n",
        "    x0 = - classifier.w_[0] / classifier.w_[1]\n",
        "    plt.plot([x0], 0.5, marker='o', label='decision boundary')"
      ],
      "execution_count": null,
      "outputs": []
    },
    {
      "cell_type": "code",
      "metadata": {
        "id": "gs3oaaDLhe-S",
        "colab": {
          "base_uri": "https://localhost:8080/",
          "height": 295
        },
        "outputId": "e8b743ae-9beb-45fa-8adc-cff975b9b868"
      },
      "source": [
        "# Train the model\n",
        "X_train = X[(y == 0) | (y == 1)]\n",
        "y_train = y[(y == 0) | (y == 1)]\n",
        "\n",
        "eta1 = .001\n",
        "lrgd1 = LogisticRegressionGD(eta=eta1, n_iter=100, random_state=1)\n",
        "lrgd1.fit(X_train, y_train)\n",
        "\n",
        "# Plot the learning curves\n",
        "fig, ax = plt.subplots(nrows=1, ncols=2, figsize=(10, 4))\n",
        "\n",
        "ax[0].plot(range(1, len(lrgd1.cost_) + 1), lrgd1.cost_, marker='o')\n",
        "ax[0].set_xlabel('Epochs')\n",
        "ax[0].set_ylabel('log-likelihood function')\n",
        "ax[0].set_title('Logistic regression - Learning rate {:.5f}'.format(eta1))\n",
        "\n",
        "eta2 = .01\n",
        "lrgd2 = LogisticRegressionGD(eta=eta2, n_iter=100, random_state=1)\n",
        "lrgd2.fit(X_train, y_train)\n",
        "ax[1].plot(range(1, len(lrgd2.cost_) + 1), lrgd2.cost_, marker='o')\n",
        "ax[1].set_xlabel('Epochs')\n",
        "ax[1].set_ylabel('log-likelihood function')\n",
        "ax[1].set_title('Logistic regression - Learning rate {:.5f}'.format(eta2))\n",
        "plt.show()"
      ],
      "execution_count": null,
      "outputs": [
        {
          "output_type": "display_data",
          "data": {
            "image/png": "[encoded data removed]",
            "text/plain": [
              "<Figure size 720x288 with 2 Axes>"
            ]
          },
          "metadata": {
            "tags": [],
            "needs_background": "light"
          }
        }
      ]
    },
    {
      "cell_type": "code",
      "metadata": {
        "id": "gJw7cPRvi6cQ",
        "colab": {
          "base_uri": "https://localhost:8080/",
          "height": 314
        },
        "outputId": "ccefbf56-9009-4f04-a9a2-93ad0ab7d710"
      },
      "source": [
        "print('Model 1')\n",
        "plot_decision_regions2(X=X_train, y=y_train, classifier=lrgd1)\n",
        "\n",
        "plt.xlabel('petal length [standardized]')\n",
        "plt.legend(loc='upper left')\n",
        "\n",
        "plt.tight_layout();"
      ],
      "execution_count": null,
      "outputs": [
        {
          "output_type": "stream",
          "text": [
            "Model 1\n"
          ],
          "name": "stdout"
        },
        {
          "output_type": "display_data",
          "data": {
            "image/png": "[encoded data removed]",
            "text/plain": [
              "<Figure size 432x288 with 1 Axes>"
            ]
          },
          "metadata": {
            "tags": [],
            "needs_background": "light"
          }
        }
      ]
    },
    {
      "cell_type": "code",
      "metadata": {
        "id": "Q2DSwP3ijCSH",
        "colab": {
          "base_uri": "https://localhost:8080/",
          "height": 314
        },
        "outputId": "a87dc876-2af3-4d65-c30c-366b013930cc"
      },
      "source": [
        "print('Model 2')\n",
        "plot_decision_regions2(X=X_train, y=y_train, classifier=lrgd2)\n",
        "\n",
        "plt.xlabel('petal length [standardized]')\n",
        "plt.legend(loc='upper left')\n",
        "\n",
        "plt.tight_layout();"
      ],
      "execution_count": null,
      "outputs": [
        {
          "output_type": "stream",
          "text": [
            "Model 2\n"
          ],
          "name": "stdout"
        },
        {
          "output_type": "display_data",
          "data": {
            "image/png": "[encoded data removed]",
            "text/plain": [
              "<Figure size 432x288 with 1 Axes>"
            ]
          },
          "metadata": {
            "tags": [],
            "needs_background": "light"
          }
        }
      ]
    }
  ]
}